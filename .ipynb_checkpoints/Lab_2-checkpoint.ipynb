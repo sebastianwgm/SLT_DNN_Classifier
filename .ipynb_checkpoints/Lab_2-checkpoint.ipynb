{
 "cells": [
  {
   "cell_type": "code",
   "execution_count": 210,
   "metadata": {},
   "outputs": [
    {
     "name": "stdout",
     "output_type": "stream",
     "text": [
      "Test accuracy: 56 %\n"
     ]
    }
   ],
   "source": [
    "import numpy as np\n",
    "import torch\n",
    "import torch.nn as nn\n",
    "import torch.nn.functional as F\n",
    "import torch.optim as optim\n",
    "\n",
    "# Load the dataset\n",
    "data = np.load('lab2_dataset.npz')\n",
    "train_feats = torch.tensor(data['train_feats'])\n",
    "test_feats = torch.tensor(data['test_feats'])\n",
    "\n",
    "train_labels = torch.tensor(data['train_labels'])\n",
    "test_labels = torch.tensor(data['test_labels'])\n",
    "phone_labels = data['phone_labels']\n",
    "\n",
    "# Set up the dataloaders\n",
    "train_dataset = torch.utils.data.TensorDataset(train_feats, train_labels)\n",
    "train_loader = torch.utils.data.DataLoader(train_dataset, batch_size=8, shuffle=True)\n",
    "train_loader.requires_grad=True\n",
    "\n",
    "test_dataset = torch.utils.data.TensorDataset(test_feats, test_labels)\n",
    "test_loader = torch.utils.data.DataLoader(test_dataset, batch_size=8, shuffle=False)\n",
    "\n",
    "# Define the model architecture\n",
    "class MyModel(nn.Module):\n",
    "    def __init__(self):\n",
    "        super(MyModel, self).__init__()\n",
    "        self.linear1 = nn.Linear(40, 2*48*11)\n",
    "        self.relu = nn.ReLU()\n",
    "        self.linear2 = nn.Linear(2*48*11, 48*11)\n",
    "        self.relu2 = nn.ReLU()\n",
    "        self.linear3 = nn.Linear(48*11, 48)\n",
    "        self.relu3 = nn.ReLU()\n",
    "        self.linear4 = nn.Linear(48*11, 48)\n",
    "\n",
    "    def forward(self, x):\n",
    "        x = self.relu(self.linear1(x))\n",
    "        x = self.linear2(x)\n",
    "        x = self.relu2(x)\n",
    "        x = self.linear3(x)\n",
    "        x = torch.reshape(x, (-1, 11*48))\n",
    "        x = self.linear4(x)\n",
    "        return x\n",
    "\n",
    "# Instantiate the model, loss function, and optimizer\n",
    "model = MyModel()\n",
    "criterion = nn.CrossEntropyLoss()\n",
    "# Changing optimizer to Adam and lr to 0.001\n",
    "optimizer = optim.Adam(model.parameters(), lr=0.001)\n",
    "# optimizer = optim.SGD(model.parameters(), )\n",
    "\n",
    "def train_network(model, train_loader, criterion, optimizer):\n",
    "    for epoch in range(5):\n",
    "        for i, (inputs, labels) in enumerate(train_loader, 0):\n",
    "            optimizer.zero_grad()\n",
    "            outputs = model(inputs)\n",
    "            loss = criterion(outputs, labels)\n",
    "            loss.backward()\n",
    "            optimizer.step()\n",
    "        \n",
    "\n",
    "def test_network(model, test_loader):\n",
    "    correct = 0\n",
    "    total = 0\n",
    "    with torch.no_grad():\n",
    "        for data in test_loader:\n",
    "            inputs, labels = data\n",
    "            outputs = model(inputs)\n",
    "            _, predicted = torch.max(outputs.data, 1)\n",
    "            total += labels.size(0)\n",
    "            correct += (predicted == labels).sum().item()\n",
    "    print('Test accuracy: %d %%' % (100 * correct / total))\n",
    "\n",
    "train_network(model, train_loader, criterion, optimizer)\n",
    "test_network(model, test_loader)\n"
   ]
  },
  {
   "cell_type": "code",
   "execution_count": 307,
   "metadata": {},
   "outputs": [
    {
     "name": "stdout",
     "output_type": "stream",
     "text": [
      "Test accuracy: 56 %\n",
      "Accuracy w/o labels:  [91.0, 83.0, 81.0, 80.0, 79.0, 78.0, 78.0, 77.0, 76.0, 74.0, 74.0, 72.0, 70.0, 68.0, 68.0, 67.0, 67.0, 66.0, 66.0, 65.0, 63.0, 61.0, 61.0, 60.0, 60.0, 60.0, 59.0, 53.0, 53.0, 53.0, 51.0, 49.0, 48.0, 46.0, 44.0, 43.0, 41.0, 40.0, 38.0, 35.0, 34.0, 32.0, 32.0, 30.0, 29.0, 25.0, 23.0, 13.698630136986301]\n",
      "Unsorted accuracy:  {0: (83.0, 'sil'), 1: (91.0, 's'), 2: (61.0, 'ao'), 3: (30.0, 'l'), 4: (60.0, 'r'), 5: (32.0, 'iy'), 6: (60.0, 'vcl'), 7: (38.0, 'd'), 8: (48.0, 'eh'), 9: (65.0, 'cl'), 10: (63.0, 'p'), 11: (44.0, 'ix'), 12: (60.0, 'z'), 13: (49.0, 'ih'), 14: (78.0, 'sh'), 15: (43.0, 'n'), 16: (70.0, 'v'), 17: (23.0, 'aa'), 18: (72.0, 'y'), 19: (53.0, 'uw'), 20: (67.0, 'w'), 21: (79.0, 'ey'), 22: (74.0, 'dx'), 23: (66.0, 'b'), 24: (78.0, 'ay'), 25: (66.0, 'ng'), 26: (61.0, 'k'), 27: (81.0, 'epi'), 28: (74.0, 'ch'), 29: (53.0, 'dh'), 30: (53.0, 'er'), 31: (40.0, 'en'), 32: (77.0, 'g'), 33: (29.0, 'aw'), 34: (51.0, 'hh'), 35: (59.0, 'ae'), 36: (68.0, 'ow'), 37: (80.0, 't'), 38: (25.0, 'ax'), 39: (46.0, 'm'), 40: (13.698630136986301, 'zh'), 41: (32.0, 'ah'), 42: (68.0, 'el'), 43: (76.0, 'f'), 44: (35.0, 'jh'), 45: (41.0, 'uh'), 46: (67.0, 'oy'), 47: (34.0, 'th')}\n"
     ]
    }
   ],
   "source": [
    "def test_network_per_class(model, test_loader):\n",
    "    correct = 0\n",
    "    total = 0\n",
    "    correct_per_class = [0]*48\n",
    "    total_per_class = [0]*48\n",
    "    aux = 0\n",
    "    with torch.no_grad():\n",
    "        for data in test_loader:\n",
    "            inputs, labels = data\n",
    "            outputs = model(inputs)\n",
    "            _, predicted = torch.max(outputs.data, 1)\n",
    "            for i in range(labels.size(0)):\n",
    "                correct_per_class[labels[i].item()] += (labels[i].item() == predicted[i].item())\n",
    "                total_per_class[labels[i].item()] += 1\n",
    "                aux += 1\n",
    "            total += labels.size(0)\n",
    "            correct += (predicted == labels).sum().item()\n",
    "    print('Test accuracy: %d %%' % (100 * correct / total))\n",
    "    correct_per_class = np.array(correct_per_class)\n",
    "    total_per_class = np.array(total_per_class)\n",
    "    correct_per_class = (100*correct_per_class/total_per_class)\n",
    "    phone_labels2 = np.array(phone_labels)\n",
    "    correct_per_class_sorted = sorted(correct_per_class, reverse=True)\n",
    "    print(\"Accuracy w/o labels: \", correct_per_class_sorted)\n",
    "    ans = {}\n",
    "    for i in range(48):\n",
    "        ans[i] = (correct_per_class[i], phone_labels2[i])\n",
    "    print(\"Unsorted accuracy: \", ans)\n",
    "test_network_per_class(model, test_loader)"
   ]
  },
  {
   "cell_type": "code",
   "execution_count": null,
   "metadata": {},
   "outputs": [],
   "source": [
    "# (91.0, 's'), (83.0, 'sil'), (81.0, 'epi') are the top three phoneme classes with higher accuracy.\n",
    "# (25.0, 'ax'), (23.0, 'aa'), (13.7, 'zh') are the top three phoneme classes with lower accuracy"
   ]
  },
  {
   "cell_type": "code",
   "execution_count": 269,
   "metadata": {
    "scrolled": true
   },
   "outputs": [
    {
     "name": "stdout",
     "output_type": "stream",
     "text": [
      "0 sil\n",
      "1 s\n",
      "2 ao\n",
      "3 l\n",
      "4 r\n",
      "5 iy\n",
      "6 vcl\n",
      "7 d\n",
      "8 eh\n",
      "9 cl\n",
      "10 p\n",
      "11 ix\n",
      "12 z\n",
      "13 ih\n",
      "14 sh\n",
      "15 n\n",
      "16 v\n",
      "17 aa\n",
      "18 y\n",
      "19 uw\n",
      "20 w\n",
      "21 ey\n",
      "22 dx\n",
      "23 b\n",
      "24 ay\n",
      "25 ng\n",
      "26 k\n",
      "27 epi\n",
      "28 ch\n",
      "29 dh\n",
      "30 er\n",
      "31 en\n",
      "32 g\n",
      "33 aw\n",
      "34 hh\n",
      "35 ae\n",
      "36 ow\n",
      "37 t\n",
      "38 ax\n",
      "39 m\n",
      "40 zh\n",
      "41 ah\n",
      "42 el\n",
      "43 f\n",
      "44 jh\n",
      "45 uh\n",
      "46 oy\n",
      "47 th\n"
     ]
    }
   ],
   "source": [
    "for i, phone in enumerate(phone_labels):\n",
    "    print(i, phone)"
   ]
  },
  {
   "cell_type": "code",
   "execution_count": 319,
   "metadata": {},
   "outputs": [],
   "source": [
    "def test_network_per_class_detailed(model, test_loader, phoneme):\n",
    "    correct = 0\n",
    "    total = 0\n",
    "    correct_per_class = [0]*48\n",
    "    total_per_class = [0]*48\n",
    "    aux = 0\n",
    "    predictions = [0] * 48\n",
    "    with torch.no_grad():\n",
    "        for data in test_loader:\n",
    "            inputs, labels = data\n",
    "            outputs = model(inputs)\n",
    "            _, predicted = torch.max(outputs.data, 1)\n",
    "            for i in range(labels.size(0)):\n",
    "                if (labels[i].item() == phoneme):\n",
    "                    predictions[predicted[i].item()] += 1\n",
    "    phone_labels2 = np.array(phone_labels)\n",
    "    ans = {}\n",
    "    predictions = np.array(predictions)\n",
    "    summ = predictions.sum()\n",
    "    predictions = 100 * predictions/summ\n",
    "    for i in range(48):\n",
    "        ans[i] = (predictions[i], phone_labels2[i])\n",
    "    print(\"Predictions: \", ans) \n",
    "    print(predictions)"
   ]
  },
  {
   "cell_type": "code",
   "execution_count": 320,
   "metadata": {},
   "outputs": [
    {
     "name": "stdout",
     "output_type": "stream",
     "text": [
      "Predictions:  {0: (0.0, 'sil'), 1: (15.0, 's'), 2: (0.0, 'ao'), 3: (0.0, 'l'), 4: (0.0, 'r'), 5: (0.0, 'iy'), 6: (0.0, 'vcl'), 7: (0.0, 'd'), 8: (0.0, 'eh'), 9: (0.0, 'cl'), 10: (0.0, 'p'), 11: (0.0, 'ix'), 12: (0.0, 'z'), 13: (0.0, 'ih'), 14: (78.0, 'sh'), 15: (0.0, 'n'), 16: (0.0, 'v'), 17: (0.0, 'aa'), 18: (0.0, 'y'), 19: (0.0, 'uw'), 20: (0.0, 'w'), 21: (0.0, 'ey'), 22: (0.0, 'dx'), 23: (0.0, 'b'), 24: (0.0, 'ay'), 25: (0.0, 'ng'), 26: (0.0, 'k'), 27: (0.0, 'epi'), 28: (5.0, 'ch'), 29: (0.0, 'dh'), 30: (0.0, 'er'), 31: (0.0, 'en'), 32: (0.0, 'g'), 33: (0.0, 'aw'), 34: (0.0, 'hh'), 35: (0.0, 'ae'), 36: (0.0, 'ow'), 37: (0.0, 't'), 38: (0.0, 'ax'), 39: (0.0, 'm'), 40: (1.0, 'zh'), 41: (0.0, 'ah'), 42: (0.0, 'el'), 43: (1.0, 'f'), 44: (0.0, 'jh'), 45: (0.0, 'uh'), 46: (0.0, 'oy'), 47: (0.0, 'th')}\n",
      "[ 0. 15.  0.  0.  0.  0.  0.  0.  0.  0.  0.  0.  0.  0. 78.  0.  0.  0.\n",
      "  0.  0.  0.  0.  0.  0.  0.  0.  0.  0.  5.  0.  0.  0.  0.  0.  0.  0.\n",
      "  0.  0.  0.  0.  1.  0.  0.  1.  0.  0.  0.  0.]\n"
     ]
    }
   ],
   "source": [
    "# 14 sh\n",
    "test_network_per_class_detailed(model, test_loader, 14)\n",
    "# The most commonly mis-classified for 'sh' are: 15.0, 's'; 5.0, 'ch'; 1.0, 'zh'; 1.0, 'f'; and 78.0 for 'sh'"
   ]
  },
  {
   "cell_type": "code",
   "execution_count": 321,
   "metadata": {},
   "outputs": [
    {
     "name": "stdout",
     "output_type": "stream",
     "text": [
      "Predictions:  {0: (1.0, 'sil'), 1: (0.0, 's'), 2: (0.0, 'ao'), 3: (0.0, 'l'), 4: (0.0, 'r'), 5: (0.0, 'iy'), 6: (0.0, 'vcl'), 7: (2.0, 'd'), 8: (0.0, 'eh'), 9: (0.0, 'cl'), 10: (63.0, 'p'), 11: (0.0, 'ix'), 12: (0.0, 'z'), 13: (0.0, 'ih'), 14: (0.0, 'sh'), 15: (0.0, 'n'), 16: (1.0, 'v'), 17: (0.0, 'aa'), 18: (0.0, 'y'), 19: (0.0, 'uw'), 20: (0.0, 'w'), 21: (0.0, 'ey'), 22: (0.0, 'dx'), 23: (6.0, 'b'), 24: (0.0, 'ay'), 25: (0.0, 'ng'), 26: (9.0, 'k'), 27: (0.0, 'epi'), 28: (0.0, 'ch'), 29: (4.0, 'dh'), 30: (0.0, 'er'), 31: (0.0, 'en'), 32: (0.0, 'g'), 33: (0.0, 'aw'), 34: (1.0, 'hh'), 35: (0.0, 'ae'), 36: (0.0, 'ow'), 37: (9.0, 't'), 38: (1.0, 'ax'), 39: (0.0, 'm'), 40: (0.0, 'zh'), 41: (0.0, 'ah'), 42: (0.0, 'el'), 43: (3.0, 'f'), 44: (0.0, 'jh'), 45: (0.0, 'uh'), 46: (0.0, 'oy'), 47: (0.0, 'th')}\n",
      "[ 1.  0.  0.  0.  0.  0.  0.  2.  0.  0. 63.  0.  0.  0.  0.  0.  1.  0.\n",
      "  0.  0.  0.  0.  0.  6.  0.  0.  9.  0.  0.  4.  0.  0.  0.  0.  1.  0.\n",
      "  0.  9.  1.  0.  0.  0.  0.  3.  0.  0.  0.  0.]\n"
     ]
    }
   ],
   "source": [
    "# 10 p\n",
    "test_network_per_class_detailed(model, test_loader, 10)\n",
    "# The most commonly mis-classified for 'p' are: 9.0, 'k'; 9.0, 't'; 6.0, 'b'; 4.0, 'dh'; and 63.0, 'p'"
   ]
  },
  {
   "cell_type": "code",
   "execution_count": 322,
   "metadata": {},
   "outputs": [
    {
     "name": "stdout",
     "output_type": "stream",
     "text": [
      "Predictions:  {0: (0.0, 'sil'), 1: (0.0, 's'), 2: (0.0, 'ao'), 3: (1.0, 'l'), 4: (0.0, 'r'), 5: (1.0, 'iy'), 6: (2.0, 'vcl'), 7: (0.0, 'd'), 8: (0.0, 'eh'), 9: (0.0, 'cl'), 10: (0.0, 'p'), 11: (0.0, 'ix'), 12: (0.0, 'z'), 13: (0.0, 'ih'), 14: (0.0, 'sh'), 15: (22.0, 'n'), 16: (2.0, 'v'), 17: (0.0, 'aa'), 18: (0.0, 'y'), 19: (1.0, 'uw'), 20: (1.0, 'w'), 21: (0.0, 'ey'), 22: (4.0, 'dx'), 23: (0.0, 'b'), 24: (0.0, 'ay'), 25: (10.0, 'ng'), 26: (0.0, 'k'), 27: (0.0, 'epi'), 28: (0.0, 'ch'), 29: (2.0, 'dh'), 30: (0.0, 'er'), 31: (8.0, 'en'), 32: (0.0, 'g'), 33: (0.0, 'aw'), 34: (0.0, 'hh'), 35: (0.0, 'ae'), 36: (0.0, 'ow'), 37: (0.0, 't'), 38: (0.0, 'ax'), 39: (46.0, 'm'), 40: (0.0, 'zh'), 41: (0.0, 'ah'), 42: (0.0, 'el'), 43: (0.0, 'f'), 44: (0.0, 'jh'), 45: (0.0, 'uh'), 46: (0.0, 'oy'), 47: (0.0, 'th')}\n",
      "[ 0.  0.  0.  1.  0.  1.  2.  0.  0.  0.  0.  0.  0.  0.  0. 22.  2.  0.\n",
      "  0.  1.  1.  0.  4.  0.  0. 10.  0.  0.  0.  2.  0.  8.  0.  0.  0.  0.\n",
      "  0.  0.  0. 46.  0.  0.  0.  0.  0.  0.  0.  0.]\n"
     ]
    }
   ],
   "source": [
    "# 39 m\n",
    "test_network_per_class_detailed(model, test_loader, 39)\n",
    "# The most commonly mis-classified for 'm' are: "
   ]
  },
  {
   "cell_type": "code",
   "execution_count": 323,
   "metadata": {},
   "outputs": [
    {
     "name": "stdout",
     "output_type": "stream",
     "text": [
      "Predictions:  {0: (0.0, 'sil'), 1: (0.0, 's'), 2: (2.0, 'ao'), 3: (0.0, 'l'), 4: (60.0, 'r'), 5: (0.0, 'iy'), 6: (0.0, 'vcl'), 7: (0.0, 'd'), 8: (2.0, 'eh'), 9: (0.0, 'cl'), 10: (0.0, 'p'), 11: (1.0, 'ix'), 12: (0.0, 'z'), 13: (0.0, 'ih'), 14: (0.0, 'sh'), 15: (0.0, 'n'), 16: (1.0, 'v'), 17: (1.0, 'aa'), 18: (1.0, 'y'), 19: (6.0, 'uw'), 20: (2.0, 'w'), 21: (1.0, 'ey'), 22: (0.0, 'dx'), 23: (0.0, 'b'), 24: (0.0, 'ay'), 25: (0.0, 'ng'), 26: (0.0, 'k'), 27: (0.0, 'epi'), 28: (0.0, 'ch'), 29: (0.0, 'dh'), 30: (13.0, 'er'), 31: (0.0, 'en'), 32: (0.0, 'g'), 33: (1.0, 'aw'), 34: (1.0, 'hh'), 35: (1.0, 'ae'), 36: (1.0, 'ow'), 37: (0.0, 't'), 38: (1.0, 'ax'), 39: (0.0, 'm'), 40: (0.0, 'zh'), 41: (0.0, 'ah'), 42: (0.0, 'el'), 43: (0.0, 'f'), 44: (0.0, 'jh'), 45: (4.0, 'uh'), 46: (1.0, 'oy'), 47: (0.0, 'th')}\n",
      "[ 0.  0.  2.  0. 60.  0.  0.  0.  2.  0.  0.  1.  0.  0.  0.  0.  1.  1.\n",
      "  1.  6.  2.  1.  0.  0.  0.  0.  0.  0.  0.  0. 13.  0.  0.  1.  1.  1.\n",
      "  1.  0.  1.  0.  0.  0.  0.  0.  0.  4.  1.  0.]\n"
     ]
    }
   ],
   "source": [
    "# 4 r\n",
    "test_network_per_class_detailed(model, test_loader, 4)\n",
    "# The most commonly mis-classified for 'r' are: "
   ]
  },
  {
   "cell_type": "code",
   "execution_count": 324,
   "metadata": {},
   "outputs": [
    {
     "name": "stdout",
     "output_type": "stream",
     "text": [
      "Predictions:  {0: (0.0, 'sil'), 1: (0.0, 's'), 2: (1.0, 'ao'), 3: (0.0, 'l'), 4: (1.0, 'r'), 5: (0.0, 'iy'), 6: (0.0, 'vcl'), 7: (0.0, 'd'), 8: (16.0, 'eh'), 9: (0.0, 'cl'), 10: (0.0, 'p'), 11: (0.0, 'ix'), 12: (0.0, 'z'), 13: (0.0, 'ih'), 14: (0.0, 'sh'), 15: (0.0, 'n'), 16: (0.0, 'v'), 17: (0.0, 'aa'), 18: (0.0, 'y'), 19: (0.0, 'uw'), 20: (0.0, 'w'), 21: (3.0, 'ey'), 22: (0.0, 'dx'), 23: (0.0, 'b'), 24: (9.0, 'ay'), 25: (1.0, 'ng'), 26: (0.0, 'k'), 27: (0.0, 'epi'), 28: (0.0, 'ch'), 29: (0.0, 'dh'), 30: (0.0, 'er'), 31: (0.0, 'en'), 32: (0.0, 'g'), 33: (3.0, 'aw'), 34: (1.0, 'hh'), 35: (59.0, 'ae'), 36: (0.0, 'ow'), 37: (0.0, 't'), 38: (0.0, 'ax'), 39: (0.0, 'm'), 40: (0.0, 'zh'), 41: (5.0, 'ah'), 42: (1.0, 'el'), 43: (0.0, 'f'), 44: (0.0, 'jh'), 45: (0.0, 'uh'), 46: (0.0, 'oy'), 47: (0.0, 'th')}\n",
      "[ 0.  0.  1.  0.  1.  0.  0.  0. 16.  0.  0.  0.  0.  0.  0.  0.  0.  0.\n",
      "  0.  0.  0.  3.  0.  0.  9.  1.  0.  0.  0.  0.  0.  0.  0.  3.  1. 59.\n",
      "  0.  0.  0.  0.  0.  5.  1.  0.  0.  0.  0.  0.]\n"
     ]
    }
   ],
   "source": [
    "# 35 ae\n",
    "test_network_per_class_detailed(model, test_loader, 35)\n",
    "# The most commonly mis-classified for 'ae' are: "
   ]
  }
 ],
 "metadata": {
  "kernelspec": {
   "display_name": "Python 3 (ipykernel)",
   "language": "python",
   "name": "python3"
  },
  "language_info": {
   "codemirror_mode": {
    "name": "ipython",
    "version": 3
   },
   "file_extension": ".py",
   "mimetype": "text/x-python",
   "name": "python",
   "nbconvert_exporter": "python",
   "pygments_lexer": "ipython3",
   "version": "3.9.18"
  }
 },
 "nbformat": 4,
 "nbformat_minor": 4
}
